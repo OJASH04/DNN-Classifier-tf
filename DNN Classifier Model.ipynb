{
 "cells": [
  {
   "cell_type": "markdown",
   "id": "bound-terror",
   "metadata": {},
   "source": [
    "# Classificaion\n",
    "Classification is used to seperate data points into classes of different labels."
   ]
  },
  {
   "cell_type": "markdown",
   "id": "valid-heading",
   "metadata": {},
   "source": [
    "## Dataset\n",
    "Dataset used is Iris dataset from keras\n",
    "\n",
    "This specific dataset seperates flowers into 3 different classes of species.\n",
    "- Setosa\n",
    "- Versicolor\n",
    "- Virginica\n",
    "\n",
    "The information about each flower is the following.\n",
    "- sepal length\n",
    "- sepal width\n",
    "- petal length\n",
    "- petal width"
   ]
  },
  {
   "cell_type": "code",
   "execution_count": 1,
   "id": "juvenile-findings",
   "metadata": {},
   "outputs": [],
   "source": [
    "from __future__ import absolute_import, division, print_function, unicode_literals\n",
    "# With __future__ module's inclusion, you can slowly be accustomed to incompatible changes or \n",
    "# to such ones introducing new keywords.\n",
    "\n",
    "import numpy as np\n",
    "import pandas as pd\n",
    "import matplotlib.pyplot as plt\n",
    "from IPython.display import clear_output\n",
    "from six.moves import urllib\n",
    "# six is a package that helps in writing code that is compatible with both Python 2 and Python 3.\n",
    "\n",
    "import tensorflow.compat.v2.feature_column as fc\n",
    "\n",
    "import tensorflow as tf"
   ]
  },
  {
   "cell_type": "code",
   "execution_count": 2,
   "id": "intimate-above",
   "metadata": {},
   "outputs": [],
   "source": [
    "CSV_COLUMN_NAMES = ['SepalLength', 'SepalWidth', 'PetalLength', 'PetalWidth', 'Species']\n",
    "SPECIES = ['Setosa', 'Versicolor', 'Virginica']"
   ]
  },
  {
   "cell_type": "code",
   "execution_count": 3,
   "id": "reduced-canadian",
   "metadata": {},
   "outputs": [],
   "source": [
    "train_path = tf.keras.utils.get_file(\n",
    "    \"iris_training.csv\", \"https://storage.googleapis.com/download.tensorflow.org/data/iris_training.csv\")\n",
    "test_path = tf.keras.utils.get_file(\n",
    "    \"iris_test.csv\", \"https://storage.googleapis.com/download.tensorflow.org/data/iris_test.csv\")\n",
    "\n",
    "train = pd.read_csv(train_path, names=CSV_COLUMN_NAMES, header=0)\n",
    "test = pd.read_csv(test_path, names=CSV_COLUMN_NAMES, header=0)\n",
    "# Here we use keras (a module inside of TensorFlow) to grab our datasets and read them into a pandas dataframe"
   ]
  },
  {
   "cell_type": "code",
   "execution_count": 4,
   "id": "going-running",
   "metadata": {},
   "outputs": [
    {
     "data": {
      "text/html": [
       "<div>\n",
       "<style scoped>\n",
       "    .dataframe tbody tr th:only-of-type {\n",
       "        vertical-align: middle;\n",
       "    }\n",
       "\n",
       "    .dataframe tbody tr th {\n",
       "        vertical-align: top;\n",
       "    }\n",
       "\n",
       "    .dataframe thead th {\n",
       "        text-align: right;\n",
       "    }\n",
       "</style>\n",
       "<table border=\"1\" class=\"dataframe\">\n",
       "  <thead>\n",
       "    <tr style=\"text-align: right;\">\n",
       "      <th></th>\n",
       "      <th>SepalLength</th>\n",
       "      <th>SepalWidth</th>\n",
       "      <th>PetalLength</th>\n",
       "      <th>PetalWidth</th>\n",
       "      <th>Species</th>\n",
       "    </tr>\n",
       "  </thead>\n",
       "  <tbody>\n",
       "    <tr>\n",
       "      <th>0</th>\n",
       "      <td>6.4</td>\n",
       "      <td>2.8</td>\n",
       "      <td>5.6</td>\n",
       "      <td>2.2</td>\n",
       "      <td>2</td>\n",
       "    </tr>\n",
       "    <tr>\n",
       "      <th>1</th>\n",
       "      <td>5.0</td>\n",
       "      <td>2.3</td>\n",
       "      <td>3.3</td>\n",
       "      <td>1.0</td>\n",
       "      <td>1</td>\n",
       "    </tr>\n",
       "    <tr>\n",
       "      <th>2</th>\n",
       "      <td>4.9</td>\n",
       "      <td>2.5</td>\n",
       "      <td>4.5</td>\n",
       "      <td>1.7</td>\n",
       "      <td>2</td>\n",
       "    </tr>\n",
       "    <tr>\n",
       "      <th>3</th>\n",
       "      <td>4.9</td>\n",
       "      <td>3.1</td>\n",
       "      <td>1.5</td>\n",
       "      <td>0.1</td>\n",
       "      <td>0</td>\n",
       "    </tr>\n",
       "    <tr>\n",
       "      <th>4</th>\n",
       "      <td>5.7</td>\n",
       "      <td>3.8</td>\n",
       "      <td>1.7</td>\n",
       "      <td>0.3</td>\n",
       "      <td>0</td>\n",
       "    </tr>\n",
       "  </tbody>\n",
       "</table>\n",
       "</div>"
      ],
      "text/plain": [
       "   SepalLength  SepalWidth  PetalLength  PetalWidth  Species\n",
       "0          6.4         2.8          5.6         2.2        2\n",
       "1          5.0         2.3          3.3         1.0        1\n",
       "2          4.9         2.5          4.5         1.7        2\n",
       "3          4.9         3.1          1.5         0.1        0\n",
       "4          5.7         3.8          1.7         0.3        0"
      ]
     },
     "execution_count": 4,
     "metadata": {},
     "output_type": "execute_result"
    }
   ],
   "source": [
    "train.head()"
   ]
  },
  {
   "cell_type": "code",
   "execution_count": 5,
   "id": "underlying-petersburg",
   "metadata": {},
   "outputs": [
    {
     "data": {
      "text/html": [
       "<div>\n",
       "<style scoped>\n",
       "    .dataframe tbody tr th:only-of-type {\n",
       "        vertical-align: middle;\n",
       "    }\n",
       "\n",
       "    .dataframe tbody tr th {\n",
       "        vertical-align: top;\n",
       "    }\n",
       "\n",
       "    .dataframe thead th {\n",
       "        text-align: right;\n",
       "    }\n",
       "</style>\n",
       "<table border=\"1\" class=\"dataframe\">\n",
       "  <thead>\n",
       "    <tr style=\"text-align: right;\">\n",
       "      <th></th>\n",
       "      <th>SepalLength</th>\n",
       "      <th>SepalWidth</th>\n",
       "      <th>PetalLength</th>\n",
       "      <th>PetalWidth</th>\n",
       "    </tr>\n",
       "  </thead>\n",
       "  <tbody>\n",
       "    <tr>\n",
       "      <th>0</th>\n",
       "      <td>6.4</td>\n",
       "      <td>2.8</td>\n",
       "      <td>5.6</td>\n",
       "      <td>2.2</td>\n",
       "    </tr>\n",
       "    <tr>\n",
       "      <th>1</th>\n",
       "      <td>5.0</td>\n",
       "      <td>2.3</td>\n",
       "      <td>3.3</td>\n",
       "      <td>1.0</td>\n",
       "    </tr>\n",
       "    <tr>\n",
       "      <th>2</th>\n",
       "      <td>4.9</td>\n",
       "      <td>2.5</td>\n",
       "      <td>4.5</td>\n",
       "      <td>1.7</td>\n",
       "    </tr>\n",
       "    <tr>\n",
       "      <th>3</th>\n",
       "      <td>4.9</td>\n",
       "      <td>3.1</td>\n",
       "      <td>1.5</td>\n",
       "      <td>0.1</td>\n",
       "    </tr>\n",
       "    <tr>\n",
       "      <th>4</th>\n",
       "      <td>5.7</td>\n",
       "      <td>3.8</td>\n",
       "      <td>1.7</td>\n",
       "      <td>0.3</td>\n",
       "    </tr>\n",
       "  </tbody>\n",
       "</table>\n",
       "</div>"
      ],
      "text/plain": [
       "   SepalLength  SepalWidth  PetalLength  PetalWidth\n",
       "0          6.4         2.8          5.6         2.2\n",
       "1          5.0         2.3          3.3         1.0\n",
       "2          4.9         2.5          4.5         1.7\n",
       "3          4.9         3.1          1.5         0.1\n",
       "4          5.7         3.8          1.7         0.3"
      ]
     },
     "execution_count": 5,
     "metadata": {},
     "output_type": "execute_result"
    }
   ],
   "source": [
    "train_y = train.pop('Species')\n",
    "test_y = test.pop('Species')\n",
    "train.head() # the species column is now gone"
   ]
  },
  {
   "cell_type": "code",
   "execution_count": 6,
   "id": "lonely-questionnaire",
   "metadata": {},
   "outputs": [
    {
     "data": {
      "text/plain": [
       "(120, 4)"
      ]
     },
     "execution_count": 6,
     "metadata": {},
     "output_type": "execute_result"
    }
   ],
   "source": [
    "train.shape  # we have 120 entires with 4 features"
   ]
  },
  {
   "cell_type": "markdown",
   "id": "hawaiian-chosen",
   "metadata": {},
   "source": [
    "## Input Function"
   ]
  },
  {
   "cell_type": "code",
   "execution_count": 7,
   "id": "devoted-distributor",
   "metadata": {},
   "outputs": [],
   "source": [
    "def input_fn(features, labels, training=True, batch_size=256):\n",
    "    # Convert the inputs to a Dataset.\n",
    "    dataset = tf.data.Dataset.from_tensor_slices((dict(features), labels))\n",
    "\n",
    "    # Shuffle and repeat if you are in training mode.\n",
    "    if training:\n",
    "        dataset = dataset.shuffle(1000).repeat()\n",
    "    \n",
    "    return dataset.batch(batch_size)"
   ]
  },
  {
   "cell_type": "markdown",
   "id": "breathing-fight",
   "metadata": {},
   "source": [
    "## Feature Columns"
   ]
  },
  {
   "cell_type": "code",
   "execution_count": 8,
   "id": "contemporary-cloud",
   "metadata": {},
   "outputs": [
    {
     "name": "stdout",
     "output_type": "stream",
     "text": [
      "[NumericColumn(key='SepalLength', shape=(1,), default_value=None, dtype=tf.float32, normalizer_fn=None), NumericColumn(key='SepalWidth', shape=(1,), default_value=None, dtype=tf.float32, normalizer_fn=None), NumericColumn(key='PetalLength', shape=(1,), default_value=None, dtype=tf.float32, normalizer_fn=None), NumericColumn(key='PetalWidth', shape=(1,), default_value=None, dtype=tf.float32, normalizer_fn=None)]\n"
     ]
    }
   ],
   "source": [
    "# Feature columns describe how to use the input.\n",
    "my_feature_columns = []\n",
    "for key in train.keys():\n",
    "    my_feature_columns.append(tf.feature_column.numeric_column(key=key))\n",
    "print(my_feature_columns)"
   ]
  },
  {
   "cell_type": "markdown",
   "id": "adverse-humanity",
   "metadata": {},
   "source": [
    "## Building the Model"
   ]
  },
  {
   "cell_type": "code",
   "execution_count": 9,
   "id": "rural-country",
   "metadata": {},
   "outputs": [
    {
     "name": "stdout",
     "output_type": "stream",
     "text": [
      "INFO:tensorflow:Using default config.\n",
      "WARNING:tensorflow:Using temporary folder as model directory: C:\\Users\\OJASH\\AppData\\Local\\Temp\\tmpefmqci1_\n",
      "INFO:tensorflow:Using config: {'_model_dir': 'C:\\\\Users\\\\OJASH\\\\AppData\\\\Local\\\\Temp\\\\tmpefmqci1_', '_tf_random_seed': None, '_save_summary_steps': 100, '_save_checkpoints_steps': None, '_save_checkpoints_secs': 600, '_session_config': allow_soft_placement: true\n",
      "graph_options {\n",
      "  rewrite_options {\n",
      "    meta_optimizer_iterations: ONE\n",
      "  }\n",
      "}\n",
      ", '_keep_checkpoint_max': 5, '_keep_checkpoint_every_n_hours': 10000, '_log_step_count_steps': 100, '_train_distribute': None, '_device_fn': None, '_protocol': None, '_eval_distribute': None, '_experimental_distribute': None, '_experimental_max_worker_delay_secs': None, '_session_creation_timeout_secs': 7200, '_service': None, '_cluster_spec': ClusterSpec({}), '_task_type': 'worker', '_task_id': 0, '_global_id_in_cluster': 0, '_master': '', '_evaluation_master': '', '_is_chief': True, '_num_ps_replicas': 0, '_num_worker_replicas': 1}\n"
     ]
    }
   ],
   "source": [
    "# Build a DNN with 2 hidden layers with 30 and 10 hidden nodes each.\n",
    "# The estimator modules contains all the premade models from tensor flow\n",
    "classifier = tf.estimator.DNNClassifier(\n",
    "    feature_columns=my_feature_columns,\n",
    "    # Two hidden layers of 30 and 10 nodes respectively.\n",
    "    # This is like building the architecture of the model\n",
    "    hidden_units=[30, 10],\n",
    "    \n",
    "    # The model must choose between 3 classes.\n",
    "    # Basically the number of possible outputs or classes that we have for the given problem, in our case 3 classes of flowers\n",
    "    # Default value of this argument is 2\n",
    "    n_classes=3)"
   ]
  },
  {
   "cell_type": "markdown",
   "id": "light-cuisine",
   "metadata": {},
   "source": [
    "## Training"
   ]
  },
  {
   "cell_type": "code",
   "execution_count": 10,
   "id": "advisory-subsection",
   "metadata": {},
   "outputs": [
    {
     "name": "stdout",
     "output_type": "stream",
     "text": [
      "WARNING:tensorflow:From E:\\Programming\\Python\\Anaconda\\envs\\tensorflow-gpu\\lib\\site-packages\\tensorflow_core\\python\\ops\\resource_variable_ops.py:1635: calling BaseResourceVariable.__init__ (from tensorflow.python.ops.resource_variable_ops) with constraint is deprecated and will be removed in a future version.\n",
      "Instructions for updating:\n",
      "If using Keras pass *_constraint arguments to layers.\n",
      "WARNING:tensorflow:From E:\\Programming\\Python\\Anaconda\\envs\\tensorflow-gpu\\lib\\site-packages\\tensorflow_core\\python\\training\\training_util.py:236: Variable.initialized_value (from tensorflow.python.ops.variables) is deprecated and will be removed in a future version.\n",
      "Instructions for updating:\n",
      "Use Variable.read_value. Variables in 2.X are initialized automatically both in eager and graph (inside tf.defun) contexts.\n",
      "INFO:tensorflow:Calling model_fn.\n",
      "WARNING:tensorflow:Layer dnn is casting an input tensor from dtype float64 to the layer's dtype of float32, which is new behavior in TensorFlow 2.  The layer has dtype float32 because it's dtype defaults to floatx.\n",
      "\n",
      "If you intended to run this layer in float32, you can safely ignore this warning. If in doubt, this warning is likely only an issue if you are porting a TensorFlow 1.X model to TensorFlow 2.\n",
      "\n",
      "To change all layers to have dtype float64 by default, call `tf.keras.backend.set_floatx('float64')`. To change just this layer, pass dtype='float64' to the layer constructor. If you are the author of this layer, you can disable autocasting by passing autocast=False to the base Layer constructor.\n",
      "\n",
      "WARNING:tensorflow:From E:\\Programming\\Python\\Anaconda\\envs\\tensorflow-gpu\\lib\\site-packages\\tensorflow_core\\python\\keras\\optimizer_v2\\adagrad.py:103: calling Constant.__init__ (from tensorflow.python.ops.init_ops) with dtype is deprecated and will be removed in a future version.\n",
      "Instructions for updating:\n",
      "Call initializer instance with the dtype argument instead of passing it to the constructor\n",
      "INFO:tensorflow:Done calling model_fn.\n",
      "INFO:tensorflow:Create CheckpointSaverHook.\n",
      "INFO:tensorflow:Graph was finalized.\n",
      "INFO:tensorflow:Running local_init_op.\n",
      "INFO:tensorflow:Done running local_init_op.\n",
      "INFO:tensorflow:Saving checkpoints for 0 into C:\\Users\\OJASH\\AppData\\Local\\Temp\\tmpefmqci1_\\model.ckpt.\n",
      "INFO:tensorflow:loss = 3.9208038, step = 0\n",
      "INFO:tensorflow:global_step/sec: 318.182\n",
      "INFO:tensorflow:loss = 2.5964518, step = 100 (0.303 sec)\n",
      "INFO:tensorflow:global_step/sec: 375.598\n",
      "INFO:tensorflow:loss = 2.0568974, step = 200 (0.262 sec)\n",
      "INFO:tensorflow:global_step/sec: 426.962\n",
      "INFO:tensorflow:loss = 1.7773073, step = 300 (0.234 sec)\n",
      "INFO:tensorflow:global_step/sec: 430.641\n",
      "INFO:tensorflow:loss = 1.4603195, step = 400 (0.232 sec)\n",
      "INFO:tensorflow:global_step/sec: 394.898\n",
      "INFO:tensorflow:loss = 1.2839677, step = 500 (0.253 sec)\n",
      "INFO:tensorflow:global_step/sec: 425.145\n",
      "INFO:tensorflow:loss = 1.1712039, step = 600 (0.235 sec)\n",
      "INFO:tensorflow:global_step/sec: 388.749\n",
      "INFO:tensorflow:loss = 1.0843754, step = 700 (0.257 sec)\n",
      "INFO:tensorflow:global_step/sec: 426.964\n",
      "INFO:tensorflow:loss = 1.0780786, step = 800 (0.234 sec)\n",
      "INFO:tensorflow:global_step/sec: 423.343\n",
      "INFO:tensorflow:loss = 1.0296236, step = 900 (0.236 sec)\n",
      "INFO:tensorflow:global_step/sec: 388.751\n",
      "INFO:tensorflow:loss = 0.9571322, step = 1000 (0.257 sec)\n",
      "INFO:tensorflow:global_step/sec: 418.03\n",
      "INFO:tensorflow:loss = 0.9358505, step = 1100 (0.239 sec)\n",
      "INFO:tensorflow:global_step/sec: 418.03\n",
      "INFO:tensorflow:loss = 0.91030985, step = 1200 (0.240 sec)\n",
      "INFO:tensorflow:global_step/sec: 385.748\n",
      "INFO:tensorflow:loss = 0.88856876, step = 1300 (0.258 sec)\n",
      "INFO:tensorflow:global_step/sec: 404.491\n",
      "INFO:tensorflow:loss = 0.8381888, step = 1400 (0.247 sec)\n",
      "INFO:tensorflow:global_step/sec: 409.463\n",
      "INFO:tensorflow:loss = 0.8483961, step = 1500 (0.244 sec)\n",
      "INFO:tensorflow:global_step/sec: 407.79\n",
      "INFO:tensorflow:loss = 0.82870823, step = 1600 (0.245 sec)\n",
      "INFO:tensorflow:global_step/sec: 406.136\n",
      "INFO:tensorflow:loss = 0.7967948, step = 1700 (0.246 sec)\n",
      "INFO:tensorflow:global_step/sec: 418.529\n",
      "INFO:tensorflow:loss = 0.77604246, step = 1800 (0.239 sec)\n",
      "INFO:tensorflow:global_step/sec: 416.287\n",
      "INFO:tensorflow:loss = 0.77180135, step = 1900 (0.240 sec)\n",
      "INFO:tensorflow:global_step/sec: 426.963\n",
      "INFO:tensorflow:loss = 0.73013914, step = 2000 (0.233 sec)\n",
      "INFO:tensorflow:global_step/sec: 426.962\n",
      "INFO:tensorflow:loss = 0.73215735, step = 2100 (0.235 sec)\n",
      "INFO:tensorflow:global_step/sec: 388.751\n",
      "INFO:tensorflow:loss = 0.7219376, step = 2200 (0.257 sec)\n",
      "INFO:tensorflow:global_step/sec: 412.748\n",
      "INFO:tensorflow:loss = 0.7129216, step = 2300 (0.243 sec)\n",
      "INFO:tensorflow:global_step/sec: 385.587\n",
      "INFO:tensorflow:loss = 0.704894, step = 2400 (0.258 sec)\n",
      "INFO:tensorflow:global_step/sec: 396.896\n",
      "INFO:tensorflow:loss = 0.70043206, step = 2500 (0.252 sec)\n",
      "INFO:tensorflow:global_step/sec: 399.172\n",
      "INFO:tensorflow:loss = 0.6881455, step = 2600 (0.251 sec)\n",
      "INFO:tensorflow:global_step/sec: 423.343\n",
      "INFO:tensorflow:loss = 0.6833945, step = 2700 (0.236 sec)\n",
      "INFO:tensorflow:global_step/sec: 425.145\n",
      "INFO:tensorflow:loss = 0.6879174, step = 2800 (0.236 sec)\n",
      "INFO:tensorflow:global_step/sec: 398.042\n",
      "INFO:tensorflow:loss = 0.66700274, step = 2900 (0.250 sec)\n",
      "INFO:tensorflow:global_step/sec: 434.387\n",
      "INFO:tensorflow:loss = 0.65952474, step = 3000 (0.230 sec)\n",
      "INFO:tensorflow:global_step/sec: 428.796\n",
      "INFO:tensorflow:loss = 0.66891295, step = 3100 (0.233 sec)\n",
      "INFO:tensorflow:global_step/sec: 401.241\n",
      "INFO:tensorflow:loss = 0.6477064, step = 3200 (0.249 sec)\n",
      "INFO:tensorflow:global_step/sec: 393.342\n",
      "INFO:tensorflow:loss = 0.6480074, step = 3300 (0.254 sec)\n",
      "INFO:tensorflow:global_step/sec: 425.146\n",
      "INFO:tensorflow:loss = 0.63805646, step = 3400 (0.235 sec)\n",
      "INFO:tensorflow:global_step/sec: 414.56\n",
      "INFO:tensorflow:loss = 0.62713856, step = 3500 (0.241 sec)\n",
      "INFO:tensorflow:global_step/sec: 421.558\n",
      "INFO:tensorflow:loss = 0.6241124, step = 3600 (0.237 sec)\n",
      "INFO:tensorflow:global_step/sec: 387.244\n",
      "INFO:tensorflow:loss = 0.61848927, step = 3700 (0.259 sec)\n",
      "INFO:tensorflow:global_step/sec: 404.49\n",
      "INFO:tensorflow:loss = 0.6152412, step = 3800 (0.246 sec)\n",
      "INFO:tensorflow:global_step/sec: 416.287\n",
      "INFO:tensorflow:loss = 0.6139853, step = 3900 (0.240 sec)\n",
      "INFO:tensorflow:global_step/sec: 430.641\n",
      "INFO:tensorflow:loss = 0.601232, step = 4000 (0.232 sec)\n",
      "INFO:tensorflow:global_step/sec: 402.859\n",
      "INFO:tensorflow:loss = 0.6038235, step = 4100 (0.248 sec)\n",
      "INFO:tensorflow:global_step/sec: 404.492\n",
      "INFO:tensorflow:loss = 0.59388155, step = 4200 (0.247 sec)\n",
      "INFO:tensorflow:global_step/sec: 384.265\n",
      "INFO:tensorflow:loss = 0.58437634, step = 4300 (0.260 sec)\n",
      "INFO:tensorflow:global_step/sec: 407.792\n",
      "INFO:tensorflow:loss = 0.5909941, step = 4400 (0.245 sec)\n",
      "INFO:tensorflow:global_step/sec: 402.859\n",
      "INFO:tensorflow:loss = 0.5784208, step = 4500 (0.248 sec)\n",
      "INFO:tensorflow:global_step/sec: 402.86\n",
      "INFO:tensorflow:loss = 0.57619524, step = 4600 (0.249 sec)\n",
      "INFO:tensorflow:global_step/sec: 411.149\n",
      "INFO:tensorflow:loss = 0.5504007, step = 4700 (0.242 sec)\n",
      "INFO:tensorflow:global_step/sec: 425.145\n",
      "INFO:tensorflow:loss = 0.56801426, step = 4800 (0.235 sec)\n",
      "INFO:tensorflow:global_step/sec: 425.143\n",
      "INFO:tensorflow:loss = 0.55442286, step = 4900 (0.235 sec)\n",
      "INFO:tensorflow:Saving checkpoints for 5000 into C:\\Users\\OJASH\\AppData\\Local\\Temp\\tmpefmqci1_\\model.ckpt.\n",
      "INFO:tensorflow:Loss for final step: 0.5597044.\n"
     ]
    },
    {
     "data": {
      "text/plain": [
       "<tensorflow_estimator.python.estimator.canned.dnn.DNNClassifierV2 at 0x242dc0af4e0>"
      ]
     },
     "execution_count": 10,
     "metadata": {},
     "output_type": "execute_result"
    }
   ],
   "source": [
    "classifier.train(\n",
    "    # Since we didn't embed the input_fn inside of another function, we make use of lambda here\n",
    "    # But if we had embedded the input_fn inside of another function we could have simply skipped using lambda\n",
    "    # We set the training as true because we are currently training the model\n",
    "    input_fn=lambda: input_fn(train, train_y, training=True),\n",
    "    \n",
    "    # steps basically means how many times will our model see the data\n",
    "    # If steps is set to `None`, train forever or train until `input_fn` generates the `tf.errors.OutOfRange` error \n",
    "    # or `StopIteration` exception.\n",
    "    steps=5000)"
   ]
  },
  {
   "cell_type": "markdown",
   "id": "german-screen",
   "metadata": {},
   "source": [
    "## Evaluation"
   ]
  },
  {
   "cell_type": "markdown",
   "id": "brilliant-sequence",
   "metadata": {},
   "source": [
    "In the statement below **eval_result** is a *dictionary*, so when we used <code>**eval_result</code> we unpacked our dictionary. Thus when we used formatted strings to print the desired output of accuracy, instead of directly calling <code>eval_result['accuracy']</code> we simply called <code>accuracy</code>. Thus **eval_result** which is already unpacked matched the key, in this case accuracy, & substituted that value."
   ]
  },
  {
   "cell_type": "code",
   "execution_count": 11,
   "id": "catholic-proof",
   "metadata": {},
   "outputs": [
    {
     "name": "stdout",
     "output_type": "stream",
     "text": [
      "INFO:tensorflow:Calling model_fn.\n",
      "WARNING:tensorflow:Layer dnn is casting an input tensor from dtype float64 to the layer's dtype of float32, which is new behavior in TensorFlow 2.  The layer has dtype float32 because it's dtype defaults to floatx.\n",
      "\n",
      "If you intended to run this layer in float32, you can safely ignore this warning. If in doubt, this warning is likely only an issue if you are porting a TensorFlow 1.X model to TensorFlow 2.\n",
      "\n",
      "To change all layers to have dtype float64 by default, call `tf.keras.backend.set_floatx('float64')`. To change just this layer, pass dtype='float64' to the layer constructor. If you are the author of this layer, you can disable autocasting by passing autocast=False to the base Layer constructor.\n",
      "\n",
      "INFO:tensorflow:Done calling model_fn.\n",
      "INFO:tensorflow:Starting evaluation at 2021-03-29T22:39:37Z\n",
      "INFO:tensorflow:Graph was finalized.\n",
      "INFO:tensorflow:Restoring parameters from C:\\Users\\OJASH\\AppData\\Local\\Temp\\tmpefmqci1_\\model.ckpt-5000\n",
      "INFO:tensorflow:Running local_init_op.\n",
      "INFO:tensorflow:Done running local_init_op.\n",
      "INFO:tensorflow:Inference Time : 0.78940s\n",
      "INFO:tensorflow:Finished evaluation at 2021-03-29-22:39:38\n",
      "INFO:tensorflow:Saving dict for global step 5000: accuracy = 0.93333334, average_loss = 0.59796554, global_step = 5000, loss = 0.59796554\n",
      "INFO:tensorflow:Saving 'checkpoint_path' summary for global step 5000: C:\\Users\\OJASH\\AppData\\Local\\Temp\\tmpefmqci1_\\model.ckpt-5000\n",
      "\n",
      "Test set accuracy: 0.933\n",
      "\n"
     ]
    }
   ],
   "source": [
    "eval_result = classifier.evaluate(\n",
    "    input_fn=lambda: input_fn(test, test_y, training=False))\n",
    "\n",
    "print('\\nTest set accuracy: {accuracy:0.3f}\\n'.format(**eval_result))"
   ]
  },
  {
   "cell_type": "code",
   "execution_count": 12,
   "id": "blind-brother",
   "metadata": {},
   "outputs": [
    {
     "name": "stdout",
     "output_type": "stream",
     "text": [
      "{'accuracy': 0.93333334, 'average_loss': 0.59796554, 'loss': 0.59796554, 'global_step': 5000}\n"
     ]
    }
   ],
   "source": [
    "print(eval_result)"
   ]
  },
  {
   "cell_type": "markdown",
   "id": "noble-childhood",
   "metadata": {},
   "source": [
    "## Prediction"
   ]
  },
  {
   "cell_type": "markdown",
   "id": "coordinate-vatican",
   "metadata": {},
   "source": [
    "Although we could predict for all the datapoints from the dataset as shown for **linear regression** but here we are only doing it for one entry."
   ]
  },
  {
   "cell_type": "code",
   "execution_count": 13,
   "id": "behind-washington",
   "metadata": {},
   "outputs": [
    {
     "name": "stdout",
     "output_type": "stream",
     "text": [
      "Please type numeric values as prompted.\n",
      "SepalLength: 5.1\n",
      "SepalWidth: 3.3\n",
      "PetalLength: 1.7\n",
      "PetalWidth: 0.5\n",
      "INFO:tensorflow:Calling model_fn.\n",
      "INFO:tensorflow:Done calling model_fn.\n",
      "INFO:tensorflow:Graph was finalized.\n",
      "INFO:tensorflow:Restoring parameters from C:\\Users\\OJASH\\AppData\\Local\\Temp\\tmpefmqci1_\\model.ckpt-5000\n",
      "INFO:tensorflow:Running local_init_op.\n",
      "INFO:tensorflow:Done running local_init_op.\n",
      "{'logits': array([3.08839  , 1.8179965, 0.2517035], dtype=float32), 'probabilities': array([0.74663603, 0.20959648, 0.04376749], dtype=float32), 'class_ids': array([0], dtype=int64), 'classes': array([b'0'], dtype=object), 'all_class_ids': array([0, 1, 2]), 'all_classes': array([b'0', b'1', b'2'], dtype=object)}\n",
      "Prediction is \"Setosa\" (74.7%)\n"
     ]
    }
   ],
   "source": [
    "def input_fn(features, batch_size=256):\n",
    "    # Convert the inputs to a Dataset without labels.\n",
    "    # We aren't using any labels here is because when we are predicting a value we want the model to give us the labels\n",
    "    return tf.data.Dataset.from_tensor_slices(dict(features)).batch(batch_size)\n",
    "\n",
    "# These are the all the features available to us\n",
    "features = ['SepalLength', 'SepalWidth', 'PetalLength', 'PetalWidth']\n",
    "# Creating a dictionary to store our response\n",
    "predict = {}\n",
    "\n",
    "print(\"Please type numeric values as prompted.\")\n",
    "for feature in features:\n",
    "    valid = True\n",
    "    # This is to check if get a valid digit input\n",
    "    while valid: \n",
    "        val = input(feature + \": \")\n",
    "        if not val.isdigit(): valid = False\n",
    "            \n",
    "    # Store the valid response for that particular feature (key)\n",
    "    # Now we equated the predict[feature] to a list because .predict() method works on predicting for multiple things \n",
    "    # So even if we only have one value we want to predict for its expecting multiple items in that list\n",
    "    # With each row reperesenting different flower to predict for\n",
    "    predict[feature] = [float(val)]\n",
    "\n",
    "# Here the input function is the one made above \n",
    "predictions = classifier.predict(input_fn=lambda: input_fn(predict))\n",
    "for pred_dict in predictions:\n",
    "    print(pred_dict)\n",
    "    class_id = pred_dict['class_ids'][0]\n",
    "    probability = pred_dict['probabilities'][class_id]\n",
    "\n",
    "    print('Prediction is \"{}\" ({:.1f}%)'.format(\n",
    "        SPECIES[class_id], 100 * probability))\n",
    "\n",
    "# What's happening in the above for loop?\n",
    "# Answer: After we have predicted what type of flower species we have saved it in the predictions generator which yields a\n",
    "# dictionary of prediction results for each example(in our case only one). From here we access the 'class_ids' key from our\n",
    "# dictionary which has saved the result of which species it is in integer form which corresponds to the index position of\n",
    "# SPECIES list. From this now we come to the 'probabilities' array which saves the information that for this particular example\n",
    "# what are the percentage that it belong to all the species (for example setosa 0.80, virginica 0.10 & versicolor 0.10). \n",
    "# This information is stored in the order in which 'SPECIES' list is formed corresponding to that index.\n",
    "# But since we know which specie it is from through 'class_ids' we match the probability & output the correct result."
   ]
  }
 ],
 "metadata": {
  "kernelspec": {
   "display_name": "Python 3",
   "language": "python",
   "name": "python3"
  },
  "language_info": {
   "codemirror_mode": {
    "name": "ipython",
    "version": 3
   },
   "file_extension": ".py",
   "mimetype": "text/x-python",
   "name": "python",
   "nbconvert_exporter": "python",
   "pygments_lexer": "ipython3",
   "version": "3.6.13"
  }
 },
 "nbformat": 4,
 "nbformat_minor": 5
}
